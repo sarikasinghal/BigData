{
 "cells": [
  {
   "cell_type": "code",
   "execution_count": 20,
   "metadata": {},
   "outputs": [],
   "source": [
    "import ujson\n",
    "import json\n",
    "from pathlib import Path\n",
    "import os\n",
    "import pickle\n",
    "import pandas as pd\n",
    "#import s3fs"
   ]
  },
  {
   "cell_type": "code",
   "execution_count": 21,
   "metadata": {},
   "outputs": [],
   "source": [
    "def read_cluster_csv(file_path):\n",
    "    df = pd.read_csv(file_path)\n",
    "    \"\"\"\n",
    "    :param file_path: \n",
    "    :param endpoint_url: \n",
    "    :return: \n",
    "\n",
    "    s3 = s3fs.S3FileSystem(\n",
    "        anon=True,\n",
    "        client_kwargs={\n",
    "            'endpoint_url': endpoint_url\n",
    "        }\n",
    "    )\n",
    "    \"\"\"\n",
    "    return df\n",
    "    #return pd.read_csv(s3.open(file_path, mode='rb'))\n",
    "    #return pd.read_csv(\"C:/Users/aland/class/DSC650/dsc650/data/external/tidynomicon/site.csv\", mode='rb')\n",
    "\n",
    "current_dir = Path(os.getcwd()).absolute()\n",
    "results_dir = current_dir.joinpath('results')\n",
    "kv_data_dir = results_dir.joinpath('kvdb')\n",
    "kv_data_dir.mkdir(parents=True, exist_ok=True)\n",
    "\n",
    "people_json = kv_data_dir.joinpath('people.pickle')\n",
    "visited_json = kv_data_dir.joinpath('visited.pickle')\n",
    "sites_json = kv_data_dir.joinpath('sites.pickle')\n",
    "measurements_json = kv_data_dir.joinpath('measurements.pickle')\n",
    "\n",
    "class KVDB(object):\n",
    "    def __init__(self, db_path):\n",
    "        self._db_path = Path(db_path)\n",
    "        self._db = {}\n",
    "        self._load_db()\n",
    "\n",
    "    def _load_db(self):\n",
    "        if self._db_path.exists():\n",
    "            #with open(self._db_path) as f:\n",
    "            #    self._db = json.load(f)\n",
    "            with open(self._db_path, 'rb') as f:\n",
    "                self._db =pickle.load(f)\n",
    "\n",
    "    def get_value(self, key):\n",
    "        return self._db.get(key)\n",
    "\n",
    "    def set_value(self, key, value):\n",
    "        self._db[key] = value\n",
    "\n",
    "    def save(self):\n",
    "        #with open(self._db_path, 'w') as f:\n",
    "        with open(self._db_path, 'wb') as f:\n",
    "            pickle.dump(self._db, f, protocol=pickle.HIGHEST_PROTOCOL)\n",
    "            #json.dump(self._db, f, indent=2)\n",
    "\n",
    "    def saveu(self):\n",
    "        #with open(self._db_path, 'w') as f:\n",
    "        with open(self._db_path, 'wb') as f:\n",
    "            pickle.dump(self._db, f, protocol=pickle.HIGHEST_PROTOCOL)\n",
    "            #f.write(ujson.dumps(self._db))\n",
    "\n",
    "    def load(self):\n",
    "        # Load data (deserialize)\n",
    "        with open(self._db_path, 'rb') as handle:\n",
    "            unserialized_data = pickle.load(handle)\n",
    "        print(your_data == unserialized_data)"
   ]
  },
  {
   "cell_type": "code",
   "execution_count": 22,
   "metadata": {},
   "outputs": [],
   "source": [
    "import ujson\n",
    "import json\n",
    "from pathlib import Path\n",
    "import os\n",
    "import pickle\n",
    "import pandas as pd\n",
    "#import s3fs\n",
    "\n",
    "#def read_cluster_csv(file_path, endpoint_url='https://storage.budsc.midwest-datascience.com'):\n",
    "def read_cluster_csv(file_path):\n",
    "    df = pd.read_csv(file_path)\n",
    "    \"\"\"\n",
    "    :param file_path: \n",
    "    :param endpoint_url: \n",
    "    :return: \n",
    "\n",
    "    s3 = s3fs.S3FileSystem(\n",
    "        anon=True,\n",
    "        client_kwargs={\n",
    "            'endpoint_url': endpoint_url\n",
    "        }\n",
    "    )\n",
    "    \"\"\"\n",
    "    return df\n",
    "    #return pd.read_csv(s3.open(file_path, mode='rb'))\n",
    "    #return pd.read_csv(\"C:/Users/aland/class/DSC650/dsc650/data/external/tidynomicon/site.csv\", mode='rb')\n",
    "\n",
    "current_dir = Path(os.getcwd()).absolute()\n",
    "results_dir = current_dir.joinpath('results')\n",
    "kv_data_dir = results_dir.joinpath('kvdb')\n",
    "kv_data_dir.mkdir(parents=True, exist_ok=True)\n",
    "\n",
    "people_json = kv_data_dir.joinpath('people.pickle')\n",
    "visited_json = kv_data_dir.joinpath('visited.pickle')\n",
    "sites_json = kv_data_dir.joinpath('sites.pickle')\n",
    "measurements_json = kv_data_dir.joinpath('measurements.pickle')\n",
    "\n",
    "class KVDB(object):\n",
    "    def __init__(self, db_path):\n",
    "        self._db_path = Path(db_path)\n",
    "        self._db = {}\n",
    "        self._load_db()\n",
    "\n",
    "    def _load_db(self):\n",
    "        if self._db_path.exists():\n",
    "            #with open(self._db_path) as f:\n",
    "            #    self._db = json.load(f)\n",
    "            with open(self._db_path, 'rb') as f:\n",
    "                self._db =pickle.load(f)\n",
    "\n",
    "    def get_value(self, key):\n",
    "        return self._db.get(key)\n",
    "\n",
    "    def set_value(self, key, value):\n",
    "        self._db[key] = value\n",
    "\n",
    "    def save(self):\n",
    "        #with open(self._db_path, 'w') as f:\n",
    "        with open(self._db_path, 'wb') as f:\n",
    "            pickle.dump(self._db, f, protocol=pickle.HIGHEST_PROTOCOL)\n",
    "            #json.dump(self._db, f, indent=2)\n",
    "\n",
    "    def saveu(self):\n",
    "        #with open(self._db_path, 'w') as f:\n",
    "        with open(self._db_path, 'wb') as f:\n",
    "            pickle.dump(self._db, f, protocol=pickle.HIGHEST_PROTOCOL)\n",
    "            #f.write(ujson.dumps(self._db))\n",
    "\n",
    "    def load(self):\n",
    "        # Load data (deserialize)\n",
    "        with open(self._db_path, 'rb') as handle:\n",
    "            unserialized_data = pickle.load(handle)\n",
    "        print(your_data == unserialized_data)\n",
    "\n"
   ]
  },
  {
   "cell_type": "code",
   "execution_count": 23,
   "metadata": {},
   "outputs": [],
   "source": [
    "def create_sites_kvdb():\n",
    "    db = KVDB(sites_json)\n",
    "    df = read_cluster_csv('site.csv')\n",
    "    for site_id, group_df in df.groupby('site_id'):\n",
    "        db.set_value(site_id, group_df.to_dict(orient='records')[0])\n",
    "        print(db.get_value(site_id))\n",
    "    db.save()"
   ]
  },
  {
   "cell_type": "code",
   "execution_count": 25,
   "metadata": {},
   "outputs": [],
   "source": [
    "def create_people_kvdb():\n",
    "    db = KVDB(people_json)\n",
    "    df = read_cluster_csv('person.csv')\n",
    "    for person_id, group_df in df.groupby('person_id'):\n",
    "        db.set_value(person_id, group_df.to_dict(orient='records')[0])\n",
    "        print(db.get_value(person_id))\n",
    "    db.save()\n"
   ]
  },
  {
   "cell_type": "code",
   "execution_count": 18,
   "metadata": {},
   "outputs": [],
   "source": [
    "def create_sites_kvdb():\n",
    "    db = KVDB(sites_json)\n",
    "    df = read_cluster_csv('person.csv')\n",
    "    for site_id, group_df in df.groupby('site_id'):\n",
    "        db.set_value(site_id, group_df.to_dict(orient='records')[0])\n",
    "        print(db.get_value(site_id))\n",
    "    db.save()\n",
    "\n"
   ]
  },
  {
   "cell_type": "code",
   "execution_count": 27,
   "metadata": {},
   "outputs": [],
   "source": [
    "def create_visits_kvdb():\n",
    "    db = KVDB(visited_json)\n",
    "    df1 = read_cluster_csv('visited.csv')\n",
    "    df = df1.fillna(\" \")\n",
    "    grouped_df = df.groupby([\"visit_id\",\"site_id\"])\n",
    "    for visit_id, group_df in grouped_df:\n",
    "        #print(visit_id)\n",
    "        db.set_value(visit_id, group_df.to_dict(orient='records')[0])\n",
    "        print(db.get_value(visit_id))\n",
    "    db.saveu()"
   ]
  },
  {
   "cell_type": "code",
   "execution_count": 28,
   "metadata": {},
   "outputs": [],
   "source": [
    "\n",
    "\n",
    "\n",
    "def create_measurements_kvdb():\n",
    "    db = KVDB(measurements_json)\n",
    "    df1 = read_cluster_csv('measurements.csv')\n",
    "    df = df1.fillna(\" \")\n",
    "    grouped_df = df.groupby([\"visit_id\",\"person_id\",\"quantity\"])\n",
    "    for visit_id, group_df in grouped_df:\n",
    "        #print(visit_id)\n",
    "        db.set_value(visit_id, group_df.to_dict(orient='records')[0])\n",
    "        print(db.get_value(visit_id))\n",
    "    db.saveu()"
   ]
  },
  {
   "cell_type": "code",
   "execution_count": 16,
   "metadata": {},
   "outputs": [
    {
     "name": "stdout",
     "output_type": "stream",
     "text": [
      "{'site_id': 'DR-1', 'latitude': -49.85, 'longitude': -128.57}\n",
      "{'site_id': 'DR-3', 'latitude': -47.15, 'longitude': -126.72}\n",
      "{'site_id': 'MSK-4', 'latitude': -48.87, 'longitude': -123.4}\n"
     ]
    }
   ],
   "source": [
    "create_sites_kvdb()"
   ]
  },
  {
   "cell_type": "code",
   "execution_count": 26,
   "metadata": {},
   "outputs": [
    {
     "name": "stdout",
     "output_type": "stream",
     "text": [
      "{'person_id': 'danforth', 'personal_name': 'Frank', 'family_name': 'Danforth'}\n",
      "{'person_id': 'dyer', 'personal_name': 'William', 'family_name': 'Dyer'}\n",
      "{'person_id': 'lake', 'personal_name': 'Anderson', 'family_name': 'Lake'}\n",
      "{'person_id': 'pb', 'personal_name': 'Frank', 'family_name': 'Pabodie'}\n",
      "{'person_id': 'roe', 'personal_name': 'Valentina', 'family_name': 'Roerich'}\n"
     ]
    }
   ],
   "source": [
    "create_people_kvdb()"
   ]
  },
  {
   "cell_type": "code",
   "execution_count": 29,
   "metadata": {},
   "outputs": [
    {
     "name": "stdout",
     "output_type": "stream",
     "text": [
      "{'visit_id': 619, 'site_id': 'DR-1', 'visit_date': '1927-02-08'}\n",
      "{'visit_id': 622, 'site_id': 'DR-1', 'visit_date': '1927-02-10'}\n",
      "{'visit_id': 734, 'site_id': 'DR-3', 'visit_date': '1930-01-07'}\n",
      "{'visit_id': 735, 'site_id': 'DR-3', 'visit_date': '1930-01-12'}\n",
      "{'visit_id': 751, 'site_id': 'DR-3', 'visit_date': '1930-02-26'}\n",
      "{'visit_id': 752, 'site_id': 'DR-3', 'visit_date': ' '}\n",
      "{'visit_id': 837, 'site_id': 'MSK-4', 'visit_date': '1932-01-14'}\n",
      "{'visit_id': 844, 'site_id': 'DR-1', 'visit_date': '1932-03-22'}\n"
     ]
    }
   ],
   "source": [
    "create_visits_kvdb()"
   ]
  },
  {
   "cell_type": "code",
   "execution_count": 30,
   "metadata": {},
   "outputs": [
    {
     "name": "stdout",
     "output_type": "stream",
     "text": [
      "{'visit_id': 619, 'person_id': 'dyer', 'quantity': 'rad', 'reading': 9.82}\n",
      "{'visit_id': 619, 'person_id': 'dyer', 'quantity': 'sal', 'reading': 0.13}\n",
      "{'visit_id': 622, 'person_id': 'dyer', 'quantity': 'rad', 'reading': 7.8}\n",
      "{'visit_id': 622, 'person_id': 'dyer', 'quantity': 'sal', 'reading': 0.09}\n",
      "{'visit_id': 734, 'person_id': 'lake', 'quantity': 'sal', 'reading': 0.05}\n",
      "{'visit_id': 734, 'person_id': 'pb', 'quantity': 'rad', 'reading': 8.41}\n",
      "{'visit_id': 734, 'person_id': 'pb', 'quantity': 'temp', 'reading': -21.5}\n",
      "{'visit_id': 735, 'person_id': 'pb', 'quantity': 'rad', 'reading': 7.22}\n",
      "{'visit_id': 735, 'person_id': 'pb', 'quantity': 'sal', 'reading': 0.06}\n",
      "{'visit_id': 735, 'person_id': 'pb', 'quantity': 'temp', 'reading': -26.0}\n",
      "{'visit_id': 751, 'person_id': 'pb', 'quantity': 'rad', 'reading': 4.35}\n",
      "{'visit_id': 751, 'person_id': 'pb', 'quantity': 'temp', 'reading': -18.5}\n",
      "{'visit_id': 752, 'person_id': 'lake', 'quantity': 'rad', 'reading': 2.19}\n",
      "{'visit_id': 752, 'person_id': 'lake', 'quantity': 'sal', 'reading': 0.09}\n",
      "{'visit_id': 752, 'person_id': 'lake', 'quantity': 'temp', 'reading': -16.0}\n",
      "{'visit_id': 752, 'person_id': 'roe', 'quantity': 'sal', 'reading': 41.6}\n",
      "{'visit_id': 837, 'person_id': 'lake', 'quantity': 'rad', 'reading': 1.46}\n",
      "{'visit_id': 837, 'person_id': 'lake', 'quantity': 'sal', 'reading': 0.21}\n",
      "{'visit_id': 837, 'person_id': 'roe', 'quantity': 'sal', 'reading': 22.5}\n",
      "{'visit_id': 844, 'person_id': 'roe', 'quantity': 'rad', 'reading': 11.25}\n"
     ]
    }
   ],
   "source": [
    "create_measurements_kvdb()"
   ]
  },
  {
   "cell_type": "code",
   "execution_count": null,
   "metadata": {},
   "outputs": [],
   "source": []
  }
 ],
 "metadata": {
  "kernelspec": {
   "display_name": "Python 3",
   "language": "python",
   "name": "python3"
  },
  "language_info": {
   "codemirror_mode": {
    "name": "ipython",
    "version": 3
   },
   "file_extension": ".py",
   "mimetype": "text/x-python",
   "name": "python",
   "nbconvert_exporter": "python",
   "pygments_lexer": "ipython3",
   "version": "3.8.8"
  }
 },
 "nbformat": 4,
 "nbformat_minor": 4
}
