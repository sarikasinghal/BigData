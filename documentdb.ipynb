{
 "cells": [
  {
   "cell_type": "code",
   "execution_count": 3,
   "metadata": {},
   "outputs": [],
   "source": [
    "from pathlib import Path\n",
    "import json\n",
    "import os\n",
    "\n",
    "from tinydb import TinyDB\n",
    "\n",
    "current_dir = Path(os.getcwd()).absolute()\n",
    "results_dir = current_dir.joinpath('results')\n",
    "kv_data_dir = results_dir.joinpath('kvdb')\n",
    "kv_data_dir.mkdir(parents=True, exist_ok=True)\n"
   ]
  },
  {
   "cell_type": "code",
   "execution_count": 7,
   "metadata": {},
   "outputs": [],
   "source": [
    "\n",
    "    \n",
    "class DocumentDB(object):\n",
    "    def __init__(self, db_path):\n",
    "        self._db_path = Path(db_path)\n",
    "        self._db = None\n",
    "        self._load_db()\n",
    "        \n",
    "    people_json = kv_data_dir.joinpath('people.json')\n",
    "    visited_json = kv_data_dir.joinpath('visited.json')\n",
    "    sites_json = kv_data_dir.joinpath('sites.json')\n",
    "    measurements_json = kv_data_dir.joinpath('measurements.json')\n",
    "    \n",
    "    # load the individual json files into dict obj\n",
    "    \n",
    "    with open(sites_json) as f:\n",
    "        _site_lookup = json.load(f)\n",
    "\n",
    "    with open(people_json) as f:\n",
    "        _person_lookup = json.load(f)\n",
    "    \n",
    "    \n",
    "    with open(visited_json) as f:\n",
    "        _visit_lookup = json.load(f)\n",
    "    \n",
    "    \n",
    "    with open(measurements_json) as f:\n",
    "        _measurements_lookup = json.load(f)\n",
    "            \n",
    "    def _get_site(self, site_id):\n",
    "        return self._site_lookup[str(site_id)]\n",
    "    \n",
    "    def _get_measurements(self, person_id):\n",
    "        measurements = []\n",
    "        for values in self._measurements_lookup.values():\n",
    "            if str(values['person_id']) == str(person_id):\n",
    "                measurements.extend([values])\n",
    "        return measurements\n",
    "    \n",
    "    def _get_visit(self, visit_id):\n",
    "        visit = [v for k, v in self._visit_lookup.items() if v['visit_id']==visit_id][0]\n",
    "        site_id = visit['site_id']\n",
    "        site = self._get_site(site_id)\n",
    "        visit['site'] = site\n",
    "        return visit\n",
    "    def _load_db(self):\n",
    "        self._db = TinyDB(self._db_path)\n",
    "        persons = self._person_lookup.items()\n",
    "        for person_id, record in persons:\n",
    "            # print('person record',record)\n",
    "            measurements = self._get_measurements(person_id)\n",
    "            visit_ids = set([measurement['visit_id'] for measurement in measurements])\n",
    "            # print('unq vis ids',visit_ids)\n",
    "            visits = []\n",
    "            for visit_id in visit_ids:\n",
    "                visit = self._get_visit(visit_id)\n",
    "                # print('visit lookup',visit)\n",
    "                visit['measurements'] = [measurement for measurement in measurements if visit_id == measurement['visit_id']]\n",
    "                # print('after measuremnts',visit)\n",
    "                visits.append(visit)\n",
    "            record['visits'] = visits\n",
    "            self._db.insert(record)"
   ]
  },
  {
   "cell_type": "code",
   "execution_count": 8,
   "metadata": {},
   "outputs": [],
   "source": [
    "db_path = results_dir.joinpath('patient-info.json')\n",
    "if db_path.exists():\n",
    "    os.remove(db_path)\n",
    "\n",
    "db = DocumentDB(db_path)"
   ]
  }
 ],
 "metadata": {
  "kernelspec": {
   "display_name": "Python 3",
   "language": "python",
   "name": "python3"
  },
  "language_info": {
   "codemirror_mode": {
    "name": "ipython",
    "version": 3
   },
   "file_extension": ".py",
   "mimetype": "text/x-python",
   "name": "python",
   "nbconvert_exporter": "python",
   "pygments_lexer": "ipython3",
   "version": "3.8.8"
  }
 },
 "nbformat": 4,
 "nbformat_minor": 4
}
