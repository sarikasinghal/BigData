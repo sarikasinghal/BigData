{
 "cells": [
  {
   "cell_type": "code",
   "execution_count": 29,
   "metadata": {},
   "outputs": [
    {
     "name": "stdout",
     "output_type": "stream",
     "text": [
      "/Users/dragon/Documents/repo/dsc650/dsc650/dsc650/assignments/assignment02/results/kvdb\n"
     ]
    }
   ],
   "source": [
    "from pathlib import Path\n",
    "import os\n",
    "import sqlite3\n",
    "\n",
    "import s3fs\n",
    "import pandas as pd\n",
    "\n",
    "current_dir = Path(os.getcwd()).absolute()\n",
    "print(kv_data_dir)\n",
    "results_dir = current_dir.joinpath('results')\n",
    "\n",
    "kv_data_dir = results_dir.joinpath('kvdb')\n",
    "kv_data_dir.mkdir(parents=True, exist_ok=True)\n",
    "\n",
    "\n",
    "#def read_cluster_csv(file_path, endpoint_url='https://storage.budsc.midwest-datascience.com'):\n",
    " #   s3 = s3fs.S3FileSystem(\n",
    "  #      anon=True,\n",
    "   #     client_kwargs={\n",
    "    #        'endpoint_url': endpoint_url\n",
    "     #   }\n",
    "    #)\n",
    "    #return pd.read_csv(s3.open(file_path, mode='rb'))\n",
    "\n",
    "# function to read csv file from local directory and store into pandas df\n",
    "\n",
    "def read_cluster_csv(file_path):\n",
    "    cwd='C:/Users/Supraja/Documents/GitHub/dsc650/'\n",
    "    return pd.read_csv(cwd+file_path)"
   ]
  },
  {
   "cell_type": "markdown",
   "metadata": {},
   "source": [
    "## Create and Load Measurements Table"
   ]
  },
  {
   "cell_type": "code",
   "execution_count": 31,
   "metadata": {},
   "outputs": [],
   "source": [
    "def create_measurements_table(conn):\n",
    "    sql = \"\"\"\n",
    "    CREATE TABLE IF NOT EXISTS measurements (\n",
    "        visit_id integer NOT NULL,\n",
    "        person_id text NOT NULL,\n",
    "        quantity text,\n",
    "        reading real,\n",
    "        FOREIGN KEY (visit_id) REFERENCES visits (visit_id),\n",
    "        FOREIGN KEY (person_id) REFERENCES people (people_id)\n",
    "        );\n",
    "    \"\"\"\n",
    "\n",
    "    c = conn.cursor()\n",
    "    c.execute(sql)\n",
    "    \n",
    "def load_measurements_table(conn):\n",
    "    create_measurements_table(conn)\n",
    "    df = read_cluster_csv('measurements.csv')\n",
    "    measurements = df.values\n",
    "    c = conn.cursor()\n",
    "    c.execute('DELETE FROM measurements;') # Delete data if exists\n",
    "    c.executemany('INSERT INTO measurements VALUES (?,?,?,?)', measurements)\n",
    "\n",
    "    "
   ]
  },
  {
   "cell_type": "code",
   "execution_count": 32,
   "metadata": {},
   "outputs": [
    {
     "data": {
      "text/plain": [
       "<function __main__.load_measurements_table(conn)>"
      ]
     },
     "execution_count": 32,
     "metadata": {},
     "output_type": "execute_result"
    }
   ],
   "source": [
    "load_measurements_table"
   ]
  },
  {
   "cell_type": "markdown",
   "metadata": {},
   "source": [
    "## Create and Load People Table"
   ]
  },
  {
   "cell_type": "code",
   "execution_count": 33,
   "metadata": {},
   "outputs": [],
   "source": [
    "def create_people_table(conn):\n",
    "    sql = \"\"\"\n",
    "    \"\"\"\n",
    "    ## TODO: Complete SQL\n",
    "    c = conn.cursor()\n",
    "    c.execute(sql)\n",
    "    \n",
    "def load_people_table(conn):\n",
    "    create_people_table(conn)\n",
    "    ## TODO: Complete code"
   ]
  },
  {
   "cell_type": "markdown",
   "metadata": {},
   "source": [
    "## Create and Load Sites Table"
   ]
  },
  {
   "cell_type": "code",
   "execution_count": 34,
   "metadata": {},
   "outputs": [],
   "source": [
    "def create_sites_table(conn):\n",
    "    sql = \"\"\"\n",
    "    CREATE TABLE IF NOT EXISTS sites (\n",
    "        site_id text PRIMARY KEY,\n",
    "        latitude double NOT NULL,\n",
    "        longitude double NOT NULL\n",
    "        );\n",
    "    \"\"\"\n",
    "\n",
    "    c = conn.cursor()\n",
    "    c.execute(sql)\n",
    "\n",
    "def load_sites_table(conn):\n",
    "    create_sites_table(conn)\n",
    "    ## TODO: Complete code"
   ]
  },
  {
   "cell_type": "markdown",
   "metadata": {},
   "source": [
    "## Create and Load Visits Table"
   ]
  },
  {
   "cell_type": "code",
   "execution_count": 35,
   "metadata": {},
   "outputs": [],
   "source": [
    "def create_visits_table(conn):\n",
    "    sql = \"\"\"\n",
    "    CREATE TABLE IF NOT EXISTS visits (\n",
    "        visit_id integer PRIMARY KEY,\n",
    "        site_id text NOT NULL,\n",
    "        visit_date text,\n",
    "        FOREIGN KEY (site_id) REFERENCES sites (site_id)\n",
    "        );\n",
    "    \"\"\"\n",
    "\n",
    "    c = conn.cursor()\n",
    "    c.execute(sql)\n",
    "\n",
    "def load_visits_table(conn):\n",
    "    create_visits_table(conn)\n",
    "    ## TODO: Complete code"
   ]
  },
  {
   "cell_type": "markdown",
   "metadata": {},
   "source": [
    "## Create DB and Load Tables"
   ]
  },
  {
   "cell_type": "code",
   "execution_count": 38,
   "metadata": {},
   "outputs": [
    {
     "name": "stdout",
     "output_type": "stream",
     "text": [
      "/Users/dragon/Documents/repo/dsc650/dsc650/dsc650/assignments/assignment02/results/patient-info.db\n",
      "<sqlite3.Connection object at 0x7fcef6cf33f0>\n"
     ]
    },
    {
     "ename": "ValueError",
     "evalue": "Attempt to open non key-like path: measurements.json",
     "output_type": "error",
     "traceback": [
      "\u001b[0;31m---------------------------------------------------------------------------\u001b[0m",
      "\u001b[0;31mValueError\u001b[0m                                Traceback (most recent call last)",
      "\u001b[0;32m<ipython-input-38-a96d89025409>\u001b[0m in \u001b[0;36m<module>\u001b[0;34m\u001b[0m\n\u001b[1;32m      7\u001b[0m \u001b[0mload_sites_table\u001b[0m\u001b[0;34m(\u001b[0m\u001b[0mconn\u001b[0m\u001b[0;34m)\u001b[0m\u001b[0;34m\u001b[0m\u001b[0;34m\u001b[0m\u001b[0m\n\u001b[1;32m      8\u001b[0m \u001b[0mload_visits_table\u001b[0m\u001b[0;34m(\u001b[0m\u001b[0mconn\u001b[0m\u001b[0;34m)\u001b[0m\u001b[0;34m\u001b[0m\u001b[0;34m\u001b[0m\u001b[0m\n\u001b[0;32m----> 9\u001b[0;31m \u001b[0mload_measurements_table\u001b[0m\u001b[0;34m(\u001b[0m\u001b[0mconn\u001b[0m\u001b[0;34m)\u001b[0m\u001b[0;34m\u001b[0m\u001b[0;34m\u001b[0m\u001b[0m\n\u001b[0m\u001b[1;32m     10\u001b[0m \u001b[0;34m\u001b[0m\u001b[0m\n\u001b[1;32m     11\u001b[0m \u001b[0mconn\u001b[0m\u001b[0;34m.\u001b[0m\u001b[0mcommit\u001b[0m\u001b[0;34m(\u001b[0m\u001b[0;34m)\u001b[0m\u001b[0;34m\u001b[0m\u001b[0;34m\u001b[0m\u001b[0m\n",
      "\u001b[0;32m<ipython-input-31-ba67446f50a7>\u001b[0m in \u001b[0;36mload_measurements_table\u001b[0;34m(conn)\u001b[0m\n\u001b[1;32m     16\u001b[0m \u001b[0;32mdef\u001b[0m \u001b[0mload_measurements_table\u001b[0m\u001b[0;34m(\u001b[0m\u001b[0mconn\u001b[0m\u001b[0;34m)\u001b[0m\u001b[0;34m:\u001b[0m\u001b[0;34m\u001b[0m\u001b[0;34m\u001b[0m\u001b[0m\n\u001b[1;32m     17\u001b[0m     \u001b[0mcreate_measurements_table\u001b[0m\u001b[0;34m(\u001b[0m\u001b[0mconn\u001b[0m\u001b[0;34m)\u001b[0m\u001b[0;34m\u001b[0m\u001b[0;34m\u001b[0m\u001b[0m\n\u001b[0;32m---> 18\u001b[0;31m     \u001b[0mdf\u001b[0m \u001b[0;34m=\u001b[0m \u001b[0mread_cluster_csv\u001b[0m\u001b[0;34m(\u001b[0m\u001b[0;34m'measurements.json'\u001b[0m\u001b[0;34m)\u001b[0m\u001b[0;34m\u001b[0m\u001b[0;34m\u001b[0m\u001b[0m\n\u001b[0m\u001b[1;32m     19\u001b[0m     \u001b[0mdf\u001b[0m\u001b[0;34m\u001b[0m\u001b[0;34m\u001b[0m\u001b[0m\n\u001b[1;32m     20\u001b[0m     \u001b[0mmeasurements\u001b[0m \u001b[0;34m=\u001b[0m \u001b[0mdf\u001b[0m\u001b[0;34m.\u001b[0m\u001b[0mvalues\u001b[0m\u001b[0;34m\u001b[0m\u001b[0;34m\u001b[0m\u001b[0m\n",
      "\u001b[0;32m<ipython-input-29-5ad99754ba7d>\u001b[0m in \u001b[0;36mread_cluster_csv\u001b[0;34m(file_path, endpoint_url)\u001b[0m\n\u001b[1;32m     21\u001b[0m         }\n\u001b[1;32m     22\u001b[0m     )\n\u001b[0;32m---> 23\u001b[0;31m     \u001b[0;32mreturn\u001b[0m \u001b[0mpd\u001b[0m\u001b[0;34m.\u001b[0m\u001b[0mread_csv\u001b[0m\u001b[0;34m(\u001b[0m\u001b[0ms3\u001b[0m\u001b[0;34m.\u001b[0m\u001b[0mopen\u001b[0m\u001b[0;34m(\u001b[0m\u001b[0mfile_path\u001b[0m\u001b[0;34m,\u001b[0m \u001b[0mmode\u001b[0m\u001b[0;34m=\u001b[0m\u001b[0;34m'rb'\u001b[0m\u001b[0;34m)\u001b[0m\u001b[0;34m)\u001b[0m\u001b[0;34m\u001b[0m\u001b[0;34m\u001b[0m\u001b[0m\n\u001b[0m",
      "\u001b[0;32m~/opt/anaconda3/lib/python3.8/site-packages/fsspec/spec.py\u001b[0m in \u001b[0;36mopen\u001b[0;34m(self, path, mode, block_size, cache_options, compression, **kwargs)\u001b[0m\n\u001b[1;32m   1104\u001b[0m         \u001b[0;32melse\u001b[0m\u001b[0;34m:\u001b[0m\u001b[0;34m\u001b[0m\u001b[0;34m\u001b[0m\u001b[0m\n\u001b[1;32m   1105\u001b[0m             \u001b[0mac\u001b[0m \u001b[0;34m=\u001b[0m \u001b[0mkwargs\u001b[0m\u001b[0;34m.\u001b[0m\u001b[0mpop\u001b[0m\u001b[0;34m(\u001b[0m\u001b[0;34m\"autocommit\"\u001b[0m\u001b[0;34m,\u001b[0m \u001b[0;32mnot\u001b[0m \u001b[0mself\u001b[0m\u001b[0;34m.\u001b[0m\u001b[0m_intrans\u001b[0m\u001b[0;34m)\u001b[0m\u001b[0;34m\u001b[0m\u001b[0;34m\u001b[0m\u001b[0m\n\u001b[0;32m-> 1106\u001b[0;31m             f = self._open(\n\u001b[0m\u001b[1;32m   1107\u001b[0m                 \u001b[0mpath\u001b[0m\u001b[0;34m,\u001b[0m\u001b[0;34m\u001b[0m\u001b[0;34m\u001b[0m\u001b[0m\n\u001b[1;32m   1108\u001b[0m                 \u001b[0mmode\u001b[0m\u001b[0;34m=\u001b[0m\u001b[0mmode\u001b[0m\u001b[0;34m,\u001b[0m\u001b[0;34m\u001b[0m\u001b[0;34m\u001b[0m\u001b[0m\n",
      "\u001b[0;32m~/opt/anaconda3/lib/python3.8/site-packages/s3fs/core.py\u001b[0m in \u001b[0;36m_open\u001b[0;34m(self, path, mode, block_size, acl, version_id, fill_cache, cache_type, autocommit, requester_pays, cache_options, **kwargs)\u001b[0m\n\u001b[1;32m    638\u001b[0m             \u001b[0mcache_type\u001b[0m \u001b[0;34m=\u001b[0m \u001b[0mself\u001b[0m\u001b[0;34m.\u001b[0m\u001b[0mdefault_cache_type\u001b[0m\u001b[0;34m\u001b[0m\u001b[0;34m\u001b[0m\u001b[0m\n\u001b[1;32m    639\u001b[0m \u001b[0;34m\u001b[0m\u001b[0m\n\u001b[0;32m--> 640\u001b[0;31m         return S3File(\n\u001b[0m\u001b[1;32m    641\u001b[0m             \u001b[0mself\u001b[0m\u001b[0;34m,\u001b[0m\u001b[0;34m\u001b[0m\u001b[0;34m\u001b[0m\u001b[0m\n\u001b[1;32m    642\u001b[0m             \u001b[0mpath\u001b[0m\u001b[0;34m,\u001b[0m\u001b[0;34m\u001b[0m\u001b[0;34m\u001b[0m\u001b[0m\n",
      "\u001b[0;32m~/opt/anaconda3/lib/python3.8/site-packages/s3fs/core.py\u001b[0m in \u001b[0;36m__init__\u001b[0;34m(self, s3, path, mode, block_size, acl, version_id, fill_cache, s3_additional_kwargs, autocommit, cache_type, requester_pays, cache_options)\u001b[0m\n\u001b[1;32m   1960\u001b[0m         \u001b[0mbucket\u001b[0m\u001b[0;34m,\u001b[0m \u001b[0mkey\u001b[0m\u001b[0;34m,\u001b[0m \u001b[0mpath_version_id\u001b[0m \u001b[0;34m=\u001b[0m \u001b[0ms3\u001b[0m\u001b[0;34m.\u001b[0m\u001b[0msplit_path\u001b[0m\u001b[0;34m(\u001b[0m\u001b[0mpath\u001b[0m\u001b[0;34m)\u001b[0m\u001b[0;34m\u001b[0m\u001b[0;34m\u001b[0m\u001b[0m\n\u001b[1;32m   1961\u001b[0m         \u001b[0;32mif\u001b[0m \u001b[0;32mnot\u001b[0m \u001b[0mkey\u001b[0m\u001b[0;34m:\u001b[0m\u001b[0;34m\u001b[0m\u001b[0;34m\u001b[0m\u001b[0m\n\u001b[0;32m-> 1962\u001b[0;31m             \u001b[0;32mraise\u001b[0m \u001b[0mValueError\u001b[0m\u001b[0;34m(\u001b[0m\u001b[0;34m\"Attempt to open non key-like path: %s\"\u001b[0m \u001b[0;34m%\u001b[0m \u001b[0mpath\u001b[0m\u001b[0;34m)\u001b[0m\u001b[0;34m\u001b[0m\u001b[0;34m\u001b[0m\u001b[0m\n\u001b[0m\u001b[1;32m   1963\u001b[0m         \u001b[0mself\u001b[0m\u001b[0;34m.\u001b[0m\u001b[0mbucket\u001b[0m \u001b[0;34m=\u001b[0m \u001b[0mbucket\u001b[0m\u001b[0;34m\u001b[0m\u001b[0;34m\u001b[0m\u001b[0m\n\u001b[1;32m   1964\u001b[0m         \u001b[0mself\u001b[0m\u001b[0;34m.\u001b[0m\u001b[0mkey\u001b[0m \u001b[0;34m=\u001b[0m \u001b[0mkey\u001b[0m\u001b[0;34m\u001b[0m\u001b[0;34m\u001b[0m\u001b[0m\n",
      "\u001b[0;31mValueError\u001b[0m: Attempt to open non key-like path: measurements.json"
     ]
    }
   ],
   "source": [
    "db_path = results_dir.joinpath('patient-info.db')\n",
    "print(db_path)\n",
    "conn = sqlite3.connect(str(db_path))\n",
    "print(conn)\n",
    "# TODO: Uncomment once functions completed\n",
    "load_people_table(conn) \n",
    "load_sites_table(conn)\n",
    "load_visits_table(conn)\n",
    "load_measurements_table(conn)\n",
    "\n",
    "conn.commit()\n",
    "conn.close()"
   ]
  },
  {
   "cell_type": "code",
   "execution_count": null,
   "metadata": {},
   "outputs": [],
   "source": []
  }
 ],
 "metadata": {
  "kernelspec": {
   "display_name": "Python 3",
   "language": "python",
   "name": "python3"
  },
  "language_info": {
   "codemirror_mode": {
    "name": "ipython",
    "version": 3
   },
   "file_extension": ".py",
   "mimetype": "text/x-python",
   "name": "python",
   "nbconvert_exporter": "python",
   "pygments_lexer": "ipython3",
   "version": "3.8.8"
  }
 },
 "nbformat": 4,
 "nbformat_minor": 4
}
